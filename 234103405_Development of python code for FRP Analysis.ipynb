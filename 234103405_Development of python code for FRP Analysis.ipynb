{
  "metadata": {
    "kernelspec": {
      "name": "python",
      "display_name": "Python (Pyodide)",
      "language": "python"
    },
    "language_info": {
      "codemirror_mode": {
        "name": "python",
        "version": 3
      },
      "file_extension": ".py",
      "mimetype": "text/x-python",
      "name": "python",
      "nbconvert_exporter": "python",
      "pygments_lexer": "ipython3",
      "version": "3.8"
    }
  },
  "nbformat_minor": 4,
  "nbformat": 4,
  "cells": [
    {
      "cell_type": "code",
      "source": "import numpy as np\nimport math as mt\n# Amit Singh 234103405\n\n# Defining the matrix 1 and 2\n\ndef mat_prod(matrix1,matrix2):\n    R1=matrix1.shape[0]\n    C1=matrix1.shape[1]\n    R2=matrix2.shape[0]\n    C2=matrix2.shape[1]\n    matrix3=np.zeros([R1,C2])\n    for i in range(R1):\n            for k in range(C2):\n                sum_product=0\n                for j in range(R2):\n                    sum_product+=matrix1[i][j]*matrix2[j][k]\n                matrix3[i][k]=(sum_product)  \n    return matrix3\n\n# Defining ABBD Matrix \n\ndef ABBD_formation(Q_bar,n):\n    A=np.zeros([3,3])\n    B=np.zeros([3,3])\n    D=np.zeros([3,3])\n    zk_minus_1=-tk*(n//2)   \n    for i in range(n):\n        A+=Q_bar[i]*tk\n        zk=zk_minus_1+tk   \n        B+=0.5*Q_bar[i]*(zk**2-zk_minus_1**2)\n        D+=(1/3)*Q_bar[i]*(zk**3-zk_minus_1**3)\n        zk_minus_1+=tk\n    ABBD=np.zeros([6,6])\n    for i in range(3):\n        for j in range(3):\n            ABBD[i][j]=A[i][j]\n        for j in range(3,6):\n            ABBD[i][j]=B[i][j-3] \n    for i in range(3,6):\n        for j in range(3):\n            ABBD[i][j]=B[i-3][j]\n        for j in range(3,6):\n            ABBD[i][j]=D[i-3][j-3] \n    return ABBD\n\nN_M_mech=np.array([100000,0,0,0,0,0]).reshape(6,1)                               #input the force and moment per unit lenth\nsu=np.array([1062*10**6,610*10**6,31*10**6,118*10**6,72*10**6]).reshape(5,1)    #input the ultimate strength in the \n                                                                                #order Longitudinal,transverse, shear \n                                                                                #followed by tensile and compressive\ndelta_T=0  # Delta T for the problem\ndelta_c=0\ntk=0.125*10**(-3)\nTheta=np.array(np.radians([0,45,-45,90,90,-45,45,0]))\nn=len(Theta)\nsymm=1\nfor i in range(n//2):\n    if Theta[i]!=Theta[n-1-i]:\n        symm=0\n        break\nif symm==1:\n    print(\"This is a symmetric laminate with\",n,\"plies\")\nelse:\n    print(\"This is not a symmetric laminate with\",n,\"plies\")\n    \nQ=np.zeros([3,3])\n\n# Stiffness in longitudinal direction, trnasverse direction , shear modulus and poisson's ratio\n\nE1=38.6*10**9\nE2=8.27*10**9\nv12=0.28\nG12=4.14*10**9\nv21=E2*v12/E1\n#print(\"v21=\",v21)\nQ[0][0]=E1/(1-v12*v21)\nQ[1][1]=E2/(1-v12*v21)\nQ[0][1]=(v12*E2)/(1-v12*v21)\nQ[1][0]=(v12*E2)/(1-v12*v21)\nQ[2][2]=G12\nQ[0][2]=0\nQ[2][0]=0\nQ[1][2]=0\nQ[2][1]=0\n\n#Print(Q)\n#Theta=np.loadtxt(\"angles.txt\",dtype=float)\n\nQ_bar=np.zeros([n,3,3])\nfor i in range(n):\n    Q_bar[i][0][0]=Q[0][0]*(np.cos(Theta[i]))**4+2*(Q[0][1]+2*Q[2][2])*((np.sin(Theta[i]))*(np.cos(Theta[i])))**2+Q[1][1]*np.sin(Theta[i])**4\n    Q_bar[i][1][1]=Q[0][0]*(np.sin(Theta[i]))**4+2*(Q[0][1]+2*Q[2][2])*((np.sin(Theta[i]))*(np.cos(Theta[i])))**2+Q[1][1]*np.cos(Theta[i])**4\n    Q_bar[i][0][1]=(Q[0][0]+Q[1][1]-4*Q[2][2])*((np.sin(Theta[i]))*(np.cos(Theta[i])))**2+Q[0][1]*(np.sin(Theta[i])**4+np.cos(Theta[i])**4)\n    Q_bar[i][1][0]=(Q[0][0]+Q[1][1]-4*Q[2][2])*((np.sin(Theta[i]))*(np.cos(Theta[i])))**2+Q[0][1]*(np.sin(Theta[i])**4+np.cos(Theta[i])**4)\n    Q_bar[i][2][2]=(Q[0][0]+Q[1][1]-2*Q[0][1]-2*Q[2][2])*((np.cos(Theta[i]))*(np.sin(Theta[i])))**2+Q[2][2]*(np.sin(Theta[i])**4+np.cos(Theta[i])**4)\n    Q_bar[i][0][2]=(Q[0][0]-Q[0][1]-2*Q[2][2])*(np.sin(Theta[i]))*(np.cos(Theta[i]))**3-(Q[1][1]-Q[0][1]-2*Q[2][2])*(np.cos(Theta[i]))*(np.sin(Theta[i]))**3\n    Q_bar[i][2][0]=(Q[0][0]-Q[0][1]-2*Q[2][2])*(np.sin(Theta[i]))*(np.cos(Theta[i]))**3-(Q[1][1]-Q[0][1]-2*Q[2][2])*(np.cos(Theta[i]))*(np.sin(Theta[i]))**3\n    Q_bar[i][1][2]=(Q[0][0]-Q[0][1]-2*Q[2][2])*(np.cos(Theta[i]))*(np.sin(Theta[i]))**3-(Q[1][1]-Q[0][1]-2*Q[2][2])*(np.sin(Theta[i]))*(np.cos(Theta[i]))**3\n    Q_bar[i][2][1]=(Q[0][0]-Q[0][1]-2*Q[2][2])*(np.cos(Theta[i]))*(np.sin(Theta[i]))**3-(Q[1][1]-Q[0][1]-2*Q[2][2])*(np.sin(Theta[i]))*(np.cos(Theta[i]))**3\n\n#Print(Q_bar) \n\nT=np.zeros([n,3,3])\nfor i in range(n):\n    T[i][0][0]=(np.cos(Theta[i]))**2\n    T[i][0][1]=(np.sin(Theta[i]))**2\n    T[i][0][2]=2*(np.sin(Theta[i]))*np.cos(Theta[i])\n    T[i][1][0]=(np.sin(Theta[i]))**2\n    T[i][1][1]=(np.cos(Theta[i]))**2\n    T[i][1][2]=-2*(np.sin(Theta[i]))*np.cos(Theta[i])\n    T[i][2][0]=-1*(np.sin(Theta[i]))*np.cos(Theta[i])\n    T[i][2][1]=(np.sin(Theta[i]))*np.cos(Theta[i])\n    T[i][2][2]=(np.cos(Theta[i]))**2-(np.sin(Theta[i]))**2\nActive_ply=n\nFailed_ply=[]\ncounter=0\nFPF_val=0\nwhile Active_ply>0:\n    counter+=1\n    ABBD = ABBD_formation(Q_bar,n)\n    # Print(ABBD)\n    ABBD_inv=np.linalg.inv(ABBD)\n    # Print(ABBD_inv)\n    e_k=np.zeros([6,1])\n   \n    #Thermal load\n    \n    alpha_12=np.array([8.6*10**(-6),22.1*10**(-6),0/2]).reshape(3,1)   #insert the values of CTEs in material axes\n    alpha_xy=np.zeros([n,3,1])\n    for i in range(n):\n        alpha_xy[i]=mat_prod(np.linalg.inv(T[i]),alpha_12)\n        alpha_xy[i][2][0]=alpha_xy[i][2][0]/2\n    \n    # Hygrothermal load\n    \n    beta_12=np.array([1,2,0/2]).reshape(3,1)    #randomly values of beta taken\n    beta_xy=np.zeros([n,3,1])\n    for i in range(n):\n        beta_xy[i]=mat_prod(np.linalg.inv(T[i]),beta_12)\n        beta_xy[i][2][0]=beta_xy[i][2][0]/2\n    N_T=np.zeros([3,1])\n    N_H=np.zeros([3,1])\n    M_T=np.zeros([3,1])\n    M_H=np.zeros([3,1])\n    zk_minus_1=-tk*(n//2)\n    for i in range(n):\n        N_T+=mat_prod(Q_bar[i],alpha_xy[i])*tk*delta_T\n        N_H+=mat_prod(Q_bar[i],beta_xy[i])*tk*delta_c\n        zk=zk_minus_1+tk   \n        M_T+=0.5*(zk**2-zk_minus_1**2)*delta_T*mat_prod(Q_bar[i],alpha_xy[i])\n        M_H+=0.5*(zk**2-zk_minus_1**2)*delta_c*mat_prod(Q_bar[i],beta_xy[i])\n        zk_minus_1+=tk\n\n    N_M=np.zeros([6,1])\n    for i in range(3):\n        N_M[i][0]=N_T[i][0]+N_H[i][0]+N_M_mech[i][0]\n        N_M[i+3][0]=M_T[i][0]+M_H[i][0]+N_M_mech[i+3][0]\n    e_k=mat_prod(ABBD_inv,N_M)\n    \n    # Print(e_k)\n    \n    epsilon_xy_0=np.zeros([3,1])\n    k=np.zeros([3,1])\n    for i in range(3):\n        epsilon_xy_0[i][0]=e_k[i][0]\n        k[i][0]=e_k[i+3][0]\n   \n     # Print(epsilon_xy_0)\n    \n    zk_minus_1=-tk*(n//2)\n    epsilon_xy=np.zeros([n,3,1])\n    for i in range(n):\n        if zk_minus_1!=0:\n            epsilon_xy[i]=epsilon_xy_0+zk_minus_1*k\n        else:\n            zk_minus_1+=tk\n            epsilon_xy[i]=epsilon_xy_0+zk_minus_1*k\n            \n        # Epsilon_xy[i][2][0]/=2\n       \n        zk_minus_1+=tk\n    \n     # Print(epsilon_xy)\n    \n    sigma_xy=np.zeros([n,3,1])\n    for i in range(n):\n        sigma_xy[i]=mat_prod(Q_bar[i],epsilon_xy[i])\n\n    sigma_12=np.zeros([n,3,1])\n    SR=np.zeros([n,4,1])\n    Tsai_Hill=np.zeros(n)\n    F_index=[]\n    Strength_ratio = 0\n    Strength_ratio_2=0\n    for i in range(n):\n        sigma_12[i]=mat_prod(T[i],sigma_xy[i])\n        if sigma_12[i][0][0]>=0:\n            SR[i][0][0]=sigma_12[i][0][0]/su[0]\n        if sigma_12[i][0][0]<0:\n            SR[i][0][0]=sigma_12[i][0][0]/su[1]\n        if sigma_12[i][1][0]>=0:\n            SR[i][1][0]=sigma_12[i][1][0]/su[0]\n        if sigma_12[i][1][0]<0:\n            SR[i][1][0]=sigma_12[i][1][0]/su[1]\n        if sigma_12[i][1][0]>=0:\n            SR[i][2][0]=sigma_12[i][1][0]/su[2]\n        if sigma_12[i][1][0]<0:\n            SR[i][2][0]=sigma_12[i][1][0]/su[3]\n        SR[i][3][0]=sigma_12[i][2][0]/su[4]\n        Tsai_Hill[i]=SR[i][0][0]**2-SR[i][0][0]*SR[i][1][0]+SR[i][2][0]**2+SR[i][3][0]**2\n        print(\"For the Layer\",i+1,\"from top for the iteration\",counter,\"Tsai hill equation evaluates to\",Tsai_Hill[i])\n        if Tsai_Hill[i]>=1:\n            F_index.append(i)\n            Failed_ply.append(i+1)\n            Active_ply-=1\n            Strength_ratio = max(Strength_ratio,max(SR[i]))\n        Strength_ratio_2 = max(Strength_ratio_2,max(SR[i]))\n        \n    # Print(sigma_12)\n        \n    # Free thermal strain in lamina\n    \n    free_epsilon_T=np.zeros([n,3,1])\n    free_epsilon_C=np.zeros([n,3,1])\n    for i in range(n):\n        free_epsilon_T[i]=delta_T*alpha_xy[i]\n        free_epsilon_C[i]=delta_c*beta_xy[i]\n\n    #Residual Strains calculation\n    \n    epsilon_xy_residual=np.zeros([n,3,1])\n    for i in range(n):\n        epsilon_xy_residual[i] = epsilon_xy[i]-free_epsilon_T[i]-free_epsilon_C[i]\n    \n    # Print(Residual Strains,epsilon_xy_residual)\n\n    # Residual stress calculation  \n    \n    sigma_xy_residual=np.zeros([n,3,1])\n    for i in range(n):\n        sigma_xy_residual[i]=mat_prod(Q_bar[i],epsilon_xy_residual[i])\n    \n    # Print(Residual Stress xy ,sigma_xy_residual)\n\n    sigma_12_residual=np.zeros([n,3,1])\n    for i in range(n):\n        sigma_12_residual[i]=mat_prod(T[i],sigma_xy_residual[i])\n   \n    # Print(Residual Stress,sigma_12_residual)\n    \n    # Print(Strength_ratio)\n    \n    if Active_ply == n-2 and symm==1 and FPF_val==0:\n        FPF = N_M_mech/Strength_ratio\n        print(\"FPF=\",FPF)\n        FPF_val=1\n        \n    elif Active_ply==n-1 and symm==0 and FPF_val==0:\n        FPF = N_M_mech/Strength_ratio\n        print(\"FPF=\",FPF)    \n        FPF_val=1\n    if Active_ply == 0:\n        LPF =N_M_mech/Strength_ratio\n        print(\"LPF\",LPF)\n    if Strength_ratio==0:\n        N_M_mech=N_M_mech/Strength_ratio_2\n    else:\n        N_M_mech=N_M_mech/Strength_ratio\n   \n    # LPF Calculation\n    \n    for k in F_index: \n        for i in range(3):\n            for j in range(3):\n                Q_bar[k][i][j]=0\nprint(\"Order of failure of plies in the laminate from top\",Failed_ply)\n\n",
      "metadata": {
        "trusted": true
      },
      "outputs": [
        {
          "name": "stdout",
          "text": "This is a symmetric laminate with 8 plies\n",
          "output_type": "stream"
        },
        {
          "name": "stderr",
          "text": "<ipython-input-2-05b202ac0d47>:182: DeprecationWarning: Conversion of an array with ndim > 0 to a scalar is deprecated, and will error in future. Ensure you extract a single element from your array before performing this operation. (Deprecated NumPy 1.25.)\n  SR[i][0][0]=sigma_12[i][0][0]/su[0]\n<ipython-input-2-05b202ac0d47>:186: DeprecationWarning: Conversion of an array with ndim > 0 to a scalar is deprecated, and will error in future. Ensure you extract a single element from your array before performing this operation. (Deprecated NumPy 1.25.)\n  SR[i][1][0]=sigma_12[i][1][0]/su[0]\n<ipython-input-2-05b202ac0d47>:190: DeprecationWarning: Conversion of an array with ndim > 0 to a scalar is deprecated, and will error in future. Ensure you extract a single element from your array before performing this operation. (Deprecated NumPy 1.25.)\n  SR[i][2][0]=sigma_12[i][1][0]/su[2]\n<ipython-input-2-05b202ac0d47>:193: DeprecationWarning: Conversion of an array with ndim > 0 to a scalar is deprecated, and will error in future. Ensure you extract a single element from your array before performing this operation. (Deprecated NumPy 1.25.)\n  SR[i][3][0]=sigma_12[i][2][0]/su[4]\n",
          "output_type": "stream"
        },
        {
          "name": "stdout",
          "text": "For the Layer 1 from top for the iteration 1 Tsai hill equation evaluates to 0.03670711654110874\nFor the Layer 2 from top for the iteration 1 Tsai hill equation evaluates to 0.5930857616122943\nFor the Layer 3 from top for the iteration 1 Tsai hill equation evaluates to 0.5930857616122943\n",
          "output_type": "stream"
        },
        {
          "name": "stderr",
          "text": "<ipython-input-2-05b202ac0d47>:184: DeprecationWarning: Conversion of an array with ndim > 0 to a scalar is deprecated, and will error in future. Ensure you extract a single element from your array before performing this operation. (Deprecated NumPy 1.25.)\n  SR[i][0][0]=sigma_12[i][0][0]/su[1]\n",
          "output_type": "stream"
        },
        {
          "name": "stdout",
          "text": "For the Layer 4 from top for the iteration 1 Tsai hill equation evaluates to 1.7491725966404599\nFor the Layer 5 from top for the iteration 1 Tsai hill equation evaluates to 1.7491725966404599\nFor the Layer 6 from top for the iteration 1 Tsai hill equation evaluates to 0.5930857616122943\nFor the Layer 7 from top for the iteration 1 Tsai hill equation evaluates to 0.5930857616122944\nFor the Layer 8 from top for the iteration 1 Tsai hill equation evaluates to 0.03670711654110874\nFPF= [[75787.52881614]\n [    0.        ]\n [    0.        ]\n [    0.        ]\n [    0.        ]\n [    0.        ]]\n",
          "output_type": "stream"
        },
        {
          "name": "stderr",
          "text": "<ipython-input-2-05b202ac0d47>:188: DeprecationWarning: Conversion of an array with ndim > 0 to a scalar is deprecated, and will error in future. Ensure you extract a single element from your array before performing this operation. (Deprecated NumPy 1.25.)\n  SR[i][1][0]=sigma_12[i][1][0]/su[1]\n<ipython-input-2-05b202ac0d47>:192: DeprecationWarning: Conversion of an array with ndim > 0 to a scalar is deprecated, and will error in future. Ensure you extract a single element from your array before performing this operation. (Deprecated NumPy 1.25.)\n  SR[i][2][0]=sigma_12[i][1][0]/su[3]\n",
          "output_type": "stream"
        },
        {
          "name": "stdout",
          "text": "For the Layer 1 from top for the iteration 2 Tsai hill equation evaluates to 0.03514882346174952\nFor the Layer 2 from top for the iteration 2 Tsai hill equation evaluates to 0.3491674985640071\nFor the Layer 3 from top for the iteration 2 Tsai hill equation evaluates to 0.3491674985640071\nFor the Layer 4 from top for the iteration 2 Tsai hill equation evaluates to 0.0\nFor the Layer 5 from top for the iteration 2 Tsai hill equation evaluates to 0.0\nFor the Layer 6 from top for the iteration 2 Tsai hill equation evaluates to 0.3491674985640071\nFor the Layer 7 from top for the iteration 2 Tsai hill equation evaluates to 0.3491674985640071\nFor the Layer 8 from top for the iteration 2 Tsai hill equation evaluates to 0.035148823461749516\nFor the Layer 1 from top for the iteration 3 Tsai hill equation evaluates to 0.1876598738202986\nFor the Layer 2 from top for the iteration 3 Tsai hill equation evaluates to 1.8642083082518464\nFor the Layer 3 from top for the iteration 3 Tsai hill equation evaluates to 1.8642083082518464\nFor the Layer 4 from top for the iteration 3 Tsai hill equation evaluates to 0.0\nFor the Layer 5 from top for the iteration 3 Tsai hill equation evaluates to 0.0\nFor the Layer 6 from top for the iteration 3 Tsai hill equation evaluates to 1.8642083082518464\nFor the Layer 7 from top for the iteration 3 Tsai hill equation evaluates to 1.8642083082518464\nFor the Layer 8 from top for the iteration 3 Tsai hill equation evaluates to 0.18765987382029856\nFor the Layer 1 from top for the iteration 4 Tsai hill equation evaluates to 0.43503787556713824\nFor the Layer 2 from top for the iteration 4 Tsai hill equation evaluates to 0.0\nFor the Layer 3 from top for the iteration 4 Tsai hill equation evaluates to 0.0\nFor the Layer 4 from top for the iteration 4 Tsai hill equation evaluates to 0.0\nFor the Layer 5 from top for the iteration 4 Tsai hill equation evaluates to 0.0\nFor the Layer 6 from top for the iteration 4 Tsai hill equation evaluates to 0.0\nFor the Layer 7 from top for the iteration 4 Tsai hill equation evaluates to 0.0\nFor the Layer 8 from top for the iteration 4 Tsai hill equation evaluates to 0.43503787556713824\nFor the Layer 1 from top for the iteration 5 Tsai hill equation evaluates to 1.0\nFor the Layer 2 from top for the iteration 5 Tsai hill equation evaluates to 0.0\nFor the Layer 3 from top for the iteration 5 Tsai hill equation evaluates to 0.0\nFor the Layer 4 from top for the iteration 5 Tsai hill equation evaluates to 0.0\nFor the Layer 5 from top for the iteration 5 Tsai hill equation evaluates to 0.0\nFor the Layer 6 from top for the iteration 5 Tsai hill equation evaluates to 0.0\nFor the Layer 7 from top for the iteration 5 Tsai hill equation evaluates to 0.0\nFor the Layer 8 from top for the iteration 5 Tsai hill equation evaluates to 1.0\nLPF [[265500.]\n [     0.]\n [     0.]\n [     0.]\n [     0.]\n [     0.]]\nOrder of failure of plies in the laminate from top [4, 5, 2, 3, 6, 7, 1, 8]\n",
          "output_type": "stream"
        }
      ],
      "execution_count": 2
    },
    {
      "cell_type": "code",
      "source": "",
      "metadata": {
        "trusted": true
      },
      "outputs": [],
      "execution_count": null
    },
    {
      "cell_type": "code",
      "source": "",
      "metadata": {
        "trusted": true
      },
      "outputs": [],
      "execution_count": null
    }
  ]
}